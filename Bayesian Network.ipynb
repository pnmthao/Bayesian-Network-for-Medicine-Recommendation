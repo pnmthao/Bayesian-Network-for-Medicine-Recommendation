{
 "cells": [
  {
   "cell_type": "markdown",
   "metadata": {},
   "source": [
    "## Load datasets"
   ]
  },
  {
   "cell_type": "code",
   "execution_count": 1,
   "metadata": {},
   "outputs": [],
   "source": [
    "import numpy as np\n",
    "import pandas as pd\n",
    "\n",
    "oo2012 = pd.read_csv('Data/R301_OO/OO2012.csv', dtype=str)\n",
    "oo2013 = pd.read_csv('Data/R301_OO/OO2013.csv', dtype=str)\n",
    "\n",
    "oo = pd.concat([oo2012, oo2013])"
   ]
  },
  {
   "cell_type": "code",
   "execution_count": 2,
   "metadata": {},
   "outputs": [],
   "source": [
    "cd = pd.read_csv('Data/CD.csv', dtype=str)\n",
    "cd = cd[cd['APPL_DATE'] > '20120000']"
   ]
  },
  {
   "cell_type": "code",
   "execution_count": 3,
   "metadata": {},
   "outputs": [
    {
     "name": "stdout",
     "output_type": "stream",
     "text": [
      "Index(['FEE_YM', 'APPL_TYPE', 'HOSP_ID', 'APPL_DATE', 'CASE_TYPE', 'SEQ_NO',\n",
      "       'ORDER_TYPE', 'DRUG_NO', 'DRUG_USE', 'DRUG_FRE', 'UNIT_PRICE',\n",
      "       'TOTAL_QTY', 'TOTAL_AMT', 'SEQ'],\n",
      "      dtype='object')\n",
      "7120120\n"
     ]
    }
   ],
   "source": [
    "print(oo.columns)\n",
    "print(len(oo))"
   ]
  },
  {
   "cell_type": "code",
   "execution_count": 4,
   "metadata": {},
   "outputs": [
    {
     "name": "stdout",
     "output_type": "stream",
     "text": [
      "Index(['FEE_YM', 'APPL_TYPE', 'HOSP_ID', 'APPL_DATE', 'CASE_TYPE', 'SEQ_NO',\n",
      "       'CURE_ITEM_NO1', 'CURE_ITEM_NO2', 'CURE_ITEM_NO3', 'CURE_ITEM_NO4',\n",
      "       'FUNC_TYPE', 'FUNC_DATE', 'ID_BIRTHDAY', 'ID', 'ACODE_ICD9_1',\n",
      "       'ACODE_ICD9_2', 'ACODE_ICD9_3', 'ICD_OP_CODE', 'DRUG_DAY', 'MED_TYPE',\n",
      "       'ID_SEX'],\n",
      "      dtype='object')\n",
      "1305343\n"
     ]
    }
   ],
   "source": [
    "print(cd.columns)\n",
    "print(len(cd))"
   ]
  },
  {
   "cell_type": "markdown",
   "metadata": {},
   "source": [
    "## Data Processing"
   ]
  },
  {
   "cell_type": "code",
   "execution_count": 5,
   "metadata": {},
   "outputs": [],
   "source": [
    "pk = ['FEE_YM', 'APPL_TYPE', 'HOSP_ID', 'APPL_DATE', 'SEQ_NO', 'CASE_TYPE']\n",
    "variables = ['ID_SEX', 'ID_BIRTHDAY', 'ACODE_ICD9_1', 'DRUG_NO', 'APPL_DATE']"
   ]
  },
  {
   "cell_type": "code",
   "execution_count": 6,
   "metadata": {},
   "outputs": [
    {
     "name": "stdout",
     "output_type": "stream",
     "text": [
      "Length of joined table: 7120120\n"
     ]
    }
   ],
   "source": [
    "# cd: disease\n",
    "# oo: medicine\n",
    "# Using left join to join 2 tables\n",
    "oo_cd = pd.merge(oo, cd, on=pk, how='left')\n",
    "print('Length of joined table:', len(oo_cd))"
   ]
  },
  {
   "cell_type": "code",
   "execution_count": 7,
   "metadata": {},
   "outputs": [
    {
     "name": "stdout",
     "output_type": "stream",
     "text": [
      "Table Length after droping NaN value: 7113238\n"
     ]
    }
   ],
   "source": [
    "oo_cd = oo_cd.dropna(subset=['ACODE_ICD9_1'])\n",
    "print('Table Length after droping NaN value:', len(oo_cd))"
   ]
  },
  {
   "cell_type": "code",
   "execution_count": 8,
   "metadata": {},
   "outputs": [
    {
     "data": {
      "text/html": [
       "<div>\n",
       "<style scoped>\n",
       "    .dataframe tbody tr th:only-of-type {\n",
       "        vertical-align: middle;\n",
       "    }\n",
       "\n",
       "    .dataframe tbody tr th {\n",
       "        vertical-align: top;\n",
       "    }\n",
       "\n",
       "    .dataframe thead th {\n",
       "        text-align: right;\n",
       "    }\n",
       "</style>\n",
       "<table border=\"1\" class=\"dataframe\">\n",
       "  <thead>\n",
       "    <tr style=\"text-align: right;\">\n",
       "      <th></th>\n",
       "      <th>G</th>\n",
       "      <th>A</th>\n",
       "      <th>D</th>\n",
       "      <th>M</th>\n",
       "      <th>AD</th>\n",
       "    </tr>\n",
       "  </thead>\n",
       "  <tbody>\n",
       "    <tr>\n",
       "      <th>0</th>\n",
       "      <td>F</td>\n",
       "      <td>1976-04-01</td>\n",
       "      <td>786.50</td>\n",
       "      <td>00203B</td>\n",
       "      <td>20130105</td>\n",
       "    </tr>\n",
       "    <tr>\n",
       "      <th>1</th>\n",
       "      <td>F</td>\n",
       "      <td>1976-04-01</td>\n",
       "      <td>786.50</td>\n",
       "      <td>A001085277</td>\n",
       "      <td>20130105</td>\n",
       "    </tr>\n",
       "    <tr>\n",
       "      <th>2</th>\n",
       "      <td>F</td>\n",
       "      <td>1976-04-01</td>\n",
       "      <td>786.50</td>\n",
       "      <td>A040130100</td>\n",
       "      <td>20130105</td>\n",
       "    </tr>\n",
       "    <tr>\n",
       "      <th>3</th>\n",
       "      <td>F</td>\n",
       "      <td>1976-04-01</td>\n",
       "      <td>786.50</td>\n",
       "      <td>AC03355212</td>\n",
       "      <td>20130105</td>\n",
       "    </tr>\n",
       "    <tr>\n",
       "      <th>4</th>\n",
       "      <td>F</td>\n",
       "      <td>1976-04-01</td>\n",
       "      <td>786.50</td>\n",
       "      <td>AC14025100</td>\n",
       "      <td>20130105</td>\n",
       "    </tr>\n",
       "  </tbody>\n",
       "</table>\n",
       "</div>"
      ],
      "text/plain": [
       "   G           A       D           M        AD\n",
       "0  F  1976-04-01  786.50      00203B  20130105\n",
       "1  F  1976-04-01  786.50  A001085277  20130105\n",
       "2  F  1976-04-01  786.50  A040130100  20130105\n",
       "3  F  1976-04-01  786.50  AC03355212  20130105\n",
       "4  F  1976-04-01  786.50  AC14025100  20130105"
      ]
     },
     "execution_count": 8,
     "metadata": {},
     "output_type": "execute_result"
    }
   ],
   "source": [
    "# Only use attribute ['ID_SEX', 'ID_BIRTHDAY', 'ACODE_ICD9_1', 'DRUG_NO', 'APPL_DATE']\n",
    "oo_cd = oo_cd[variables]\n",
    "\n",
    "# Alternating attribute name\n",
    "oo_cd.columns = ['G', 'A', 'D', 'M', 'AD']\n",
    "oo_cd.head()"
   ]
  },
  {
   "cell_type": "code",
   "execution_count": 9,
   "metadata": {},
   "outputs": [
    {
     "name": "stderr",
     "output_type": "stream",
     "text": [
      "100%|██████████| 7113238/7113238 [00:16<00:00, 419360.13it/s]\n"
     ]
    }
   ],
   "source": [
    "from tqdm import tqdm\n",
    "\n",
    "def get_age(birthday, appl_date):\n",
    "    # Calculate the age from birthday to apply date\n",
    "    # [:4] -> return the 4 first digits as the year\n",
    "    return int(appl_date[:4]) - int(birthday[:4])\n",
    "\n",
    "ages = oo_cd['A'].values\n",
    "appl_dates = oo_cd['AD'].values\n",
    "ages_range = []\n",
    "\n",
    "for i in tqdm(range(len(ages))):\n",
    "    if type(ages[i]) == str:\n",
    "        age = get_age(ages[i], appl_dates[i])\n",
    "        age_text = '>65'\n",
    "        if age < 18:\n",
    "            age_text = '<18'\n",
    "        elif age <= 30:\n",
    "            age_text = '18<=30'\n",
    "        elif age <= 50:\n",
    "            age_text = '31<=50'\n",
    "        elif age <= 65:\n",
    "            age_text = '51<=65'\n",
    "        else:\n",
    "            age_text = '>65'\n",
    "\n",
    "        ages_range.append(age)\n",
    "\n",
    "oo_cd['A'] = ages_range"
   ]
  },
  {
   "cell_type": "code",
   "execution_count": 10,
   "metadata": {},
   "outputs": [
    {
     "data": {
      "text/html": [
       "<div>\n",
       "<style scoped>\n",
       "    .dataframe tbody tr th:only-of-type {\n",
       "        vertical-align: middle;\n",
       "    }\n",
       "\n",
       "    .dataframe tbody tr th {\n",
       "        vertical-align: top;\n",
       "    }\n",
       "\n",
       "    .dataframe thead th {\n",
       "        text-align: right;\n",
       "    }\n",
       "</style>\n",
       "<table border=\"1\" class=\"dataframe\">\n",
       "  <thead>\n",
       "    <tr style=\"text-align: right;\">\n",
       "      <th></th>\n",
       "      <th>G</th>\n",
       "      <th>A</th>\n",
       "      <th>D</th>\n",
       "      <th>M</th>\n",
       "    </tr>\n",
       "  </thead>\n",
       "  <tbody>\n",
       "    <tr>\n",
       "      <th>0</th>\n",
       "      <td>F</td>\n",
       "      <td>37</td>\n",
       "      <td>786.50</td>\n",
       "      <td>00203B</td>\n",
       "    </tr>\n",
       "    <tr>\n",
       "      <th>1</th>\n",
       "      <td>F</td>\n",
       "      <td>37</td>\n",
       "      <td>786.50</td>\n",
       "      <td>A001085277</td>\n",
       "    </tr>\n",
       "    <tr>\n",
       "      <th>2</th>\n",
       "      <td>F</td>\n",
       "      <td>37</td>\n",
       "      <td>786.50</td>\n",
       "      <td>A040130100</td>\n",
       "    </tr>\n",
       "    <tr>\n",
       "      <th>3</th>\n",
       "      <td>F</td>\n",
       "      <td>37</td>\n",
       "      <td>786.50</td>\n",
       "      <td>AC03355212</td>\n",
       "    </tr>\n",
       "    <tr>\n",
       "      <th>4</th>\n",
       "      <td>F</td>\n",
       "      <td>37</td>\n",
       "      <td>786.50</td>\n",
       "      <td>AC14025100</td>\n",
       "    </tr>\n",
       "  </tbody>\n",
       "</table>\n",
       "</div>"
      ],
      "text/plain": [
       "   G   A       D           M\n",
       "0  F  37  786.50      00203B\n",
       "1  F  37  786.50  A001085277\n",
       "2  F  37  786.50  A040130100\n",
       "3  F  37  786.50  AC03355212\n",
       "4  F  37  786.50  AC14025100"
      ]
     },
     "execution_count": 10,
     "metadata": {},
     "output_type": "execute_result"
    }
   ],
   "source": [
    "# remove AD columns\n",
    "oo_cd = oo_cd.drop(columns='AD')\n",
    "oo_cd.head()"
   ]
  },
  {
   "cell_type": "code",
   "execution_count": 11,
   "metadata": {},
   "outputs": [],
   "source": [
    "# Read ICD data then create a mapping: disease code -> disease name (english, chinese)\n",
    "icd9 = pd.read_csv('Data/ICD9.csv', dtype=str)\n",
    "icd9_mapping = {}\n",
    "for row in icd9.values:\n",
    "    icd9_mapping[row[2]] = [row[0], row[1]]\n",
    "\n",
    "icd_org = pd.read_csv('Data/ICD_original.csv', dtype=str)\n",
    "\n",
    "for row in icd_org.values:\n",
    "    icd9_mapping[row[0]] = [row[1], row[2]]"
   ]
  },
  {
   "cell_type": "code",
   "execution_count": 12,
   "metadata": {},
   "outputs": [],
   "source": [
    "# Read DRUG data then create a mapping: medicine code -> medicine name\n",
    "drug = pd.read_csv('Data/DRUG.csv', dtype=str)\n",
    "drug_mapping = {}\n",
    "for row in drug.values:\n",
    "    drug_mapping[row[1]] = row[3]"
   ]
  },
  {
   "cell_type": "markdown",
   "metadata": {},
   "source": [
    "## Model"
   ]
  },
  {
   "cell_type": "code",
   "execution_count": 13,
   "metadata": {},
   "outputs": [
    {
     "name": "stdout",
     "output_type": "stream",
     "text": [
      "Learning CPD using Maximum likelihood estimators\n",
      "Inferencing with Bayesian Network\n"
     ]
    }
   ],
   "source": [
    "from pgmpy.estimators import MaximumLikelihoodEstimator\n",
    "from pgmpy.models import BayesianModel\n",
    "from pgmpy.inference import VariableElimination\n",
    "\n",
    "model = BayesianModel([('A', 'D'),\n",
    "                       ('G', 'D')])\n",
    "\n",
    "print('Learning CPD using Maximum likelihood estimators')\n",
    "model.fit(oo_cd, estimator=MaximumLikelihoodEstimator)\n",
    "\n",
    "print('Inferencing with Bayesian Network')\n",
    "infer = VariableElimination(model)"
   ]
  },
  {
   "cell_type": "markdown",
   "metadata": {},
   "source": [
    "## Phase #1: Disease Inference"
   ]
  },
  {
   "cell_type": "code",
   "execution_count": 92,
   "metadata": {},
   "outputs": [],
   "source": [
    "from prettytable import PrettyTable\n",
    "\n",
    "def disease_inference(evidence, K):\n",
    "    ans = infer.query(['D'], evidence=evidence, show_progress=False)\n",
    "    d = []\n",
    "    \n",
    "    for k, v in zip(ans.state_names['D'], ans.values):\n",
    "        d.append([v, k])\n",
    "        if str(k) not in icd9_mapping:\n",
    "            icd9_mapping[str(k)] = ['', '']\n",
    "\n",
    "    diseases = np.array(sorted(d, reverse=True))[:K]\n",
    "\n",
    "    cond = ''\n",
    "    for k, v in evidence.items():\n",
    "        cond += f\"{k}='{v}'\"\n",
    "\n",
    "    table = PrettyTable(['No.', 'Code', 'Disease English Name', 'Prob (%)'])\n",
    "    table.align[\"Code\"] = \"l\"\n",
    "    table.align[\"Disease English Name\"] = \"l\"\n",
    "    \n",
    "    print(f\"P(D|{cond}):\")\n",
    "    for idx, (p, disease) in enumerate(diseases):\n",
    "        table.add_row([idx+1, disease, icd9_mapping[str(disease)][0], f\"{float(p)*100:.2f}\"])\n",
    "    print(table)\n",
    "    return diseases\n"
   ]
  },
  {
   "cell_type": "markdown",
   "metadata": {},
   "source": [
    "#### P(D|A=Age)"
   ]
  },
  {
   "cell_type": "code",
   "execution_count": 93,
   "metadata": {},
   "outputs": [
    {
     "name": "stdout",
     "output_type": "stream",
     "text": [
      "P(D|A='10'):\n",
      "+-----+-------+---------------------------------------------------+----------+\n",
      "| No. | Code  | Disease English Name                              | Prob (%) |\n",
      "+-----+-------+---------------------------------------------------+----------+\n",
      "|  1  | 465.9 | Acute upper respiretory infections of unspecified |  12.92   |\n",
      "|  2  | 466.0 | Acute bronchitis                                  |   5.97   |\n",
      "|  3  | 461.9 | Acute sinusitis, unspecified                      |   5.44   |\n",
      "|  4  | 460.  |                                                   |   5.08   |\n",
      "|  5  | 463.  |                                                   |   4.17   |\n",
      "|  6  | 367.1 | Myopia                                            |   3.53   |\n",
      "|  7  | 462.  |                                                   |   2.93   |\n",
      "|  8  | 786.2 | Cough                                             |   2.83   |\n",
      "|  9  | 521.0 | Dental caries                                     |   2.80   |\n",
      "|  10 | 477.9 | Allergic rhinitis cause unspecified               |   2.57   |\n",
      "+-----+-------+---------------------------------------------------+----------+\n"
     ]
    }
   ],
   "source": [
    "K = 10\n",
    "evidence = {'A': 10}\n",
    "diseases = disease_inference(evidence, K)\n"
   ]
  },
  {
   "cell_type": "markdown",
   "metadata": {},
   "source": [
    "#### P(D|G=Gender)"
   ]
  },
  {
   "cell_type": "code",
   "execution_count": 90,
   "metadata": {},
   "outputs": [
    {
     "name": "stdout",
     "output_type": "stream",
     "text": [
      "P(D|G='M'):\n",
      "+-----+--------+-------------------------------------------------------------------------------------------------------------------------------------------------------------------------+----------+\n",
      "| No. | Code   | Disease English Name                                                                                                                                                    | Prob (%) |\n",
      "+-----+--------+-------------------------------------------------------------------------------------------------------------------------------------------------------------------------+----------+\n",
      "|  1  | 465.9  | Acute upper respiretory infections of unspecified                                                                                                                       |   6.23   |\n",
      "|  2  | 401.9  | Essential hypertension, unspecified                                                                                                                                     |   3.06   |\n",
      "|  3  | 461.9  | Acute sinusitis, unspecified                                                                                                                                            |   2.84   |\n",
      "|  4  | 250.00 | Diabetes mellitus without mention of complication, Type II [non-insulin dependent type][NIDDM type] [ adult-onset type] or unspecified type, not stated as uncontrolled |   2.71   |\n",
      "|  5  | 460.   |                                                                                                                                                                         |   2.50   |\n",
      "|  6  | 466.0  | Acute bronchitis                                                                                                                                                        |   2.47   |\n",
      "|  7  | 463.   |                                                                                                                                                                         |   2.08   |\n",
      "|  8  | 585.   |                                                                                                                                                                         |   1.83   |\n",
      "|  9  | 521.0  | Dental caries                                                                                                                                                           |   1.54   |\n",
      "|  10 | 786.2  | Cough                                                                                                                                                                   |   1.35   |\n",
      "+-----+--------+-------------------------------------------------------------------------------------------------------------------------------------------------------------------------+----------+\n"
     ]
    }
   ],
   "source": [
    "K = 10\n",
    "evidence = {'G': 'M'}\n",
    "diseases = disease_inference(evidence, K)"
   ]
  },
  {
   "cell_type": "markdown",
   "metadata": {},
   "source": [
    "#### P(D|A=Age, G=Gender)"
   ]
  },
  {
   "cell_type": "code",
   "execution_count": 91,
   "metadata": {},
   "outputs": [
    {
     "name": "stdout",
     "output_type": "stream",
     "text": [
      "P(D|A='10'G='M'):\n",
      "+-----+--------+-------------------------------------------------------+----------+\n",
      "| No. | Code   | Disease English Name                                  | Prob (%) |\n",
      "+-----+--------+-------------------------------------------------------+----------+\n",
      "|  1  | 465.9  | Acute upper respiretory infections of unspecified     |  12.51   |\n",
      "|  2  | 466.0  | Acute bronchitis                                      |   6.14   |\n",
      "|  3  | 461.9  | Acute sinusitis, unspecified                          |   5.73   |\n",
      "|  4  | 460.   |                                                       |   5.68   |\n",
      "|  5  | 204.00 | Acute lymphoid leukemia, without mention of remission |   3.90   |\n",
      "|  6  | 463.   |                                                       |   3.84   |\n",
      "|  7  | 477.9  | Allergic rhinitis cause unspecified                   |   3.07   |\n",
      "|  8  | 521.0  | Dental caries                                         |   2.83   |\n",
      "|  9  | 786.2  | Cough                                                 |   2.83   |\n",
      "|  10 | 462.   |                                                       |   2.78   |\n",
      "+-----+--------+-------------------------------------------------------+----------+\n"
     ]
    }
   ],
   "source": [
    "K = 10\n",
    "evidence = {'A': 10, 'G': 'M'}\n",
    "diseases = disease_inference(evidence, K)"
   ]
  },
  {
   "cell_type": "markdown",
   "metadata": {},
   "source": [
    "## Phase #2: Medicine Inference"
   ]
  },
  {
   "cell_type": "markdown",
   "metadata": {},
   "source": [
    "#### Model"
   ]
  },
  {
   "cell_type": "code",
   "execution_count": 67,
   "metadata": {},
   "outputs": [
    {
     "name": "stdout",
     "output_type": "stream",
     "text": [
      "Learning CPD using Maximum likelihood estimators\n",
      "Inferencing with Bayesian Network\n"
     ]
    },
    {
     "name": "stderr",
     "output_type": "stream",
     "text": [
      "/Library/Frameworks/Python.framework/Versions/3.6/lib/python3.6/site-packages/ipykernel_launcher.py:2: UserWarning: Boolean Series key will be reindexed to match DataFrame index.\n",
      "  \n"
     ]
    }
   ],
   "source": [
    "evidence = {'A': 10, 'G': 'M'}\n",
    "filtered_data = oo_cd[oo_cd['A']==evidence['A']][oo_cd['G']==evidence['G']]\n",
    "\n",
    "model2 = BayesianModel([('D', 'M')])\n",
    "\n",
    "print('Learning CPD using Maximum likelihood estimators')\n",
    "model2.fit(filtered_data, estimator=MaximumLikelihoodEstimator)\n",
    "\n",
    "print('Inferencing with Bayesian Network')\n",
    "infer_n = VariableElimination(model2)"
   ]
  },
  {
   "cell_type": "code",
   "execution_count": 96,
   "metadata": {},
   "outputs": [
    {
     "name": "stdout",
     "output_type": "stream",
     "text": [
      " 1. 465.9 : 12.92%\n",
      "+-----+------------+----------+\n",
      "| No. | Code       | Prob (%) |\n",
      "+-----+------------+----------+\n",
      "|  1  | 05203C     |  10.14   |\n",
      "|  2  | 00110C     |   7.13   |\n",
      "|  3  | MA2        |   6.24   |\n",
      "|  4  | MA1        |   4.72   |\n",
      "|  5  | 00112C     |   2.13   |\n",
      "|  6  | 00109C     |   1.69   |\n",
      "|  7  | 00111C     |   1.54   |\n",
      "|  8  | A040130100 |   1.12   |\n",
      "|  9  | AC48934151 |   0.93   |\n",
      "|  10 | A032492100 |   0.84   |\n",
      "+-----+------------+----------+\n",
      "\n",
      " 2. 466.0 : 5.97%\n",
      "+-----+------------+----------+\n",
      "| No. | Code       | Prob (%) |\n",
      "+-----+------------+----------+\n",
      "|  1  | 05203C     |  10.31   |\n",
      "|  2  | MA2        |   7.04   |\n",
      "|  3  | 00110C     |   6.59   |\n",
      "|  4  | MA1        |   3.72   |\n",
      "|  5  | 00112C     |   2.29   |\n",
      "|  6  | 00109C     |   1.32   |\n",
      "|  7  | 00114C     |   1.20   |\n",
      "|  8  | AC43362151 |   1.15   |\n",
      "|  9  | 00224C     |   1.03   |\n",
      "|  10 | AC48934151 |   0.86   |\n",
      "+-----+------------+----------+\n",
      "\n",
      " 3. 461.9 : 5.44%\n",
      "+-----+------------+----------+\n",
      "| No. | Code       | Prob (%) |\n",
      "+-----+------------+----------+\n",
      "|  1  | 05203C     |   7.05   |\n",
      "|  2  | 00110C     |   4.78   |\n",
      "|  3  | 54019C     |   4.35   |\n",
      "|  4  | MA2        |   3.74   |\n",
      "|  5  | 00109C     |   3.68   |\n",
      "|  6  | 00112C     |   3.00   |\n",
      "|  7  | MA1        |   2.88   |\n",
      "|  8  | 05224C     |   1.53   |\n",
      "|  9  | AC48934151 |   1.29   |\n",
      "|  10 | AC25866100 |   1.23   |\n",
      "+-----+------------+----------+\n",
      "\n",
      " 4. 460. : 5.08%\n",
      "+-----+---------+----------+\n",
      "| No. | Code    | Prob (%) |\n",
      "+-----+---------+----------+\n",
      "|  1  | A21     |   5.88   |\n",
      "|  2  | 05203C  |   4.21   |\n",
      "|  3  | A01     |   2.48   |\n",
      "|  4  | 00110C  |   2.48   |\n",
      "|  5  | A02     |   2.41   |\n",
      "|  6  | MA1     |   2.35   |\n",
      "|  7  | MA2     |   2.11   |\n",
      "|  8  | 00112C  |   1.67   |\n",
      "|  9  | 00109C  |   1.42   |\n",
      "|  10 | A006882 |   1.36   |\n",
      "+-----+---------+----------+\n",
      "\n",
      " 5. 463. : 4.17%\n",
      "+-----+------------+----------+\n",
      "| No. | Code       | Prob (%) |\n",
      "+-----+------------+----------+\n",
      "|  1  | 05203C     |   7.05   |\n",
      "|  2  | MA2        |   5.40   |\n",
      "|  3  | 00109C     |   5.22   |\n",
      "|  4  | 00110C     |   4.85   |\n",
      "|  5  | AC48934151 |   2.93   |\n",
      "|  6  | A021841100 |   2.11   |\n",
      "|  7  | 54019C     |   2.01   |\n",
      "|  8  | 00112C     |   1.74   |\n",
      "|  9  | A040130100 |   1.47   |\n",
      "|  10 | A026559100 |   1.47   |\n",
      "+-----+------------+----------+\n",
      "\n",
      " 6. 367.1 : 3.53%\n",
      "+-----+------------+----------+\n",
      "| No. | Code       | Prob (%) |\n",
      "+-----+------------+----------+\n",
      "|  1  | MA1        |  14.00   |\n",
      "|  2  | 05203C     |  12.38   |\n",
      "|  3  | 00110C     |  10.09   |\n",
      "|  4  | 00109C     |   4.98   |\n",
      "|  5  | 00112C     |   2.96   |\n",
      "|  6  | 00156A     |   2.83   |\n",
      "|  7  | A047641421 |   2.69   |\n",
      "|  8  | 05201A     |   2.56   |\n",
      "|  9  | A048268421 |   2.15   |\n",
      "|  10 | 05234D     |   2.15   |\n",
      "+-----+------------+----------+\n",
      "\n",
      " 7. 462. : 2.93%\n",
      "+-----+------------+----------+\n",
      "| No. | Code       | Prob (%) |\n",
      "+-----+------------+----------+\n",
      "|  1  | 05203C     |   7.47   |\n",
      "|  2  | 00110C     |   5.70   |\n",
      "|  3  | MA2        |   4.05   |\n",
      "|  4  | MA1        |   3.92   |\n",
      "|  5  | 00109C     |   2.28   |\n",
      "|  6  | A038263100 |   1.65   |\n",
      "|  7  | AC42218100 |   1.52   |\n",
      "|  8  | 00112C     |   1.27   |\n",
      "|  9  | 54019C     |   1.14   |\n",
      "|  10 | 00111C     |   1.14   |\n",
      "+-----+------------+----------+\n",
      "\n",
      " 8. 786.2 : 2.83%\n",
      "+-----+---------+----------+\n",
      "| No. | Code    | Prob (%) |\n",
      "+-----+---------+----------+\n",
      "|  1  | A21     |   7.09   |\n",
      "|  2  | 05203C  |   3.73   |\n",
      "|  3  | A02     |   3.36   |\n",
      "|  4  | A01     |   2.49   |\n",
      "|  5  | MA2     |   2.24   |\n",
      "|  6  | MA1     |   1.99   |\n",
      "|  7  | 00110C  |   1.99   |\n",
      "|  8  | A030219 |   1.87   |\n",
      "|  9  | 00112C  |   1.74   |\n",
      "|  10 | A32     |   1.62   |\n",
      "+-----+---------+----------+\n",
      "\n",
      " 9. 521.0 : 2.80%\n",
      "+-----+--------+----------+\n",
      "| No. | Code   | Prob (%) |\n",
      "+-----+--------+----------+\n",
      "|  1  | 00130C |  27.54   |\n",
      "|  2  | 89009C |  19.60   |\n",
      "|  3  | 89008C |  11.54   |\n",
      "|  4  | 92055C |  10.42   |\n",
      "|  5  | 00122C |   8.06   |\n",
      "|  6  | 89010C |   3.10   |\n",
      "|  7  | 34001C |   1.86   |\n",
      "|  8  | 89002C |   1.24   |\n",
      "|  9  | 92001C |   1.12   |\n",
      "|  10 | 00126C |   1.12   |\n",
      "+-----+--------+----------+\n",
      "\n",
      "10. 477.9 : 2.57%\n",
      "+-----+------------+----------+\n",
      "| No. | Code       | Prob (%) |\n",
      "+-----+------------+----------+\n",
      "|  1  | A21        |   6.98   |\n",
      "|  2  | A02        |   3.66   |\n",
      "|  3  | 05211C     |   3.32   |\n",
      "|  4  | A32        |   2.75   |\n",
      "|  5  | AC49833100 |   2.29   |\n",
      "|  6  | A31        |   2.06   |\n",
      "|  7  | B022924424 |   1.83   |\n",
      "|  8  | 00156A     |   1.83   |\n",
      "|  9  | 00110C     |   1.83   |\n",
      "|  10 | A01        |   1.60   |\n",
      "+-----+------------+----------+\n",
      "\n"
     ]
    }
   ],
   "source": [
    "for idx, (p, disease) in enumerate(diseases):\n",
    "    if float(p) > 0:\n",
    "        meds = infer_n.query(['M'], evidence={'D': disease}, show_progress=False)\n",
    "        m = []\n",
    "        for k, v in zip(meds.state_names['M'], meds.values):\n",
    "            m.append([v, k])\n",
    "        medicines = np.array(sorted(m, reverse=True)[:10])\n",
    "        print(f'{idx+1:2d}. {disease} : {float(p)*100:.2f}%')\n",
    "        table = PrettyTable(['No.', 'Code', 'Prob (%)'])\n",
    "        table.align[\"Code\"] = \"l\"\n",
    "    \n",
    "        for idx, (p2, med) in enumerate(medicines):\n",
    "            if float(p2) > 0:\n",
    "                table.add_row([idx+1, med, f\"{float(p2)*100:.2f}\"])\n",
    "        print(table)\n",
    "        print()"
   ]
  }
 ],
 "metadata": {
  "kernelspec": {
   "display_name": "Python 3.6.8 64-bit",
   "language": "python",
   "name": "python3"
  },
  "language_info": {
   "codemirror_mode": {
    "name": "ipython",
    "version": 3
   },
   "file_extension": ".py",
   "mimetype": "text/x-python",
   "name": "python",
   "nbconvert_exporter": "python",
   "pygments_lexer": "ipython3",
   "version": "3.6.8"
  },
  "orig_nbformat": 4,
  "vscode": {
   "interpreter": {
    "hash": "aee8b7b246df8f9039afb4144a1f6fd8d2ca17a180786b69acc140d282b71a49"
   }
  }
 },
 "nbformat": 4,
 "nbformat_minor": 2
}
